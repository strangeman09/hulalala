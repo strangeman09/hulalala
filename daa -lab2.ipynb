{
 "cells": [
  {
   "cell_type": "code",
   "execution_count": 1,
   "metadata": {},
   "outputs": [],
   "source": [
    "import numpy as np # linear algebra\n",
    "import pandas as pd # data processing, CSV file I/O (e.g. pd.read_csv)\n",
    "\n",
    "# Input data files are available in the read-only \"../input/\" directory\n",
    "# For example, running this (by clicking run or pressing Shift+Enter) will list all files under the input directory\n",
    "\n",
    "import os"
   ]
  },
  {
   "cell_type": "code",
   "execution_count": 2,
   "metadata": {},
   "outputs": [],
   "source": [
    "def binary_search(arr,key):\n",
    "    low,high=0,len(arr)-1\n",
    "    \n",
    "    while(low<=high):\n",
    "        mid=(low+high)/2\n",
    "        if arr[mid]==key:\n",
    "            return mid\n",
    "        elif arr[mid]>key:\n",
    "            high=mid\n",
    "        else :\n",
    "            low=mid\n",
    "    return -1"
   ]
  },
  {
   "cell_type": "code",
   "execution_count": 3,
   "metadata": {},
   "outputs": [],
   "source": [
    "def rand_list(i):\n",
    "    list1=[]\n",
    "    for i in range(i):\n",
    "        list1.append(random.randint(0,i))\n",
    "    return list1"
   ]
  },
  {
   "cell_type": "code",
   "execution_count": 4,
   "metadata": {},
   "outputs": [
    {
     "ename": "SyntaxError",
     "evalue": "invalid syntax (3945246559.py, line 10)",
     "output_type": "error",
     "traceback": [
      "\u001b[1;36m  Input \u001b[1;32mIn [4]\u001b[1;36m\u001b[0m\n\u001b[1;33m    start=datetime.now()\u001b[0m\n\u001b[1;37m    ^\u001b[0m\n\u001b[1;31mSyntaxError\u001b[0m\u001b[1;31m:\u001b[0m invalid syntax\n"
     ]
    }
   ],
   "source": [
    "from datetime import datetime\n",
    "from random import random\n",
    "time_stack1=[]\n",
    "for i in range(2,1000):\n",
    "#     arr=random.sample(range(0,i),i);\n",
    "#     index1=random.randint(1,(len(arr)-1)\n",
    "    arr=rand_list(i)\n",
    "    arr.sort()\n",
    "    index1=random.randint(0,(len(arr)-1)\n",
    "    start=datetime.now()\n",
    "    \n",
    "    binary_search(arr,arr[index])\n",
    "    end=datetime.now()\n",
    "    time_stack1.append((start-end).total_seconds())\n",
    "    "
   ]
  },
  {
   "cell_type": "code",
   "execution_count": 6,
   "metadata": {},
   "outputs": [
    {
     "data": {
      "image/png": "[encoded data removed]",
      "text/plain": [
       "<Figure size 432x288 with 1 Axes>"
      ]
     },
     "metadata": {
      "needs_background": "light"
     },
     "output_type": "display_data"
    }
   ],
   "source": [
    "import matplotlib.pyplot as plt\n",
    "import time\n",
    "import random\n",
    "def linear(l,x):\n",
    "    count=0\n",
    "    for i in l:\n",
    "        count=count+1\n",
    "        if(i==x):\n",
    "            return count\n",
    "    return -1\n",
    "\n",
    "def binary(l,x):\n",
    "    left=0\n",
    "\n",
    "    right=len(l)-1\n",
    "    \n",
    "    while(left<=right):\n",
    "        mid=(left+right)//2\n",
    "        if(x>l[mid]):\n",
    "            left=mid+1\n",
    "        elif(x<l[mid]):\n",
    "            right=mid-1\n",
    "        else:\n",
    "            return mid\n",
    "    return -1\n",
    "\n",
    "\n",
    "\n",
    "l=[]\n",
    "res=[]\n",
    "size=[]\n",
    "for i in range(0,10000):\n",
    "    \n",
    "    size.append(i)\n",
    "    l.append(random.random())\n",
    "    x=random.randint(0,len(l)-1)\n",
    "    st = time.time()\n",
    "    binary(l,l[x])\n",
    "    ed = time.time()\n",
    "    res.append(ed-st)\n",
    "\n",
    "\n",
    "plt.plot(size,res)\n",
    "plt.show()"
   ]
  },
  {
   "cell_type": "code",
   "execution_count": null,
   "metadata": {},
   "outputs": [],
   "source": [
    "def min_max()"
   ]
  }
 ],
 "metadata": {
  "interpreter": {
   "hash": "e852a0ccbaa31c2b9c872089bf99776cacecc1139b1141df7e7ce94973ad2b3a"
  },
  "kernelspec": {
   "display_name": "Python 3.9.12",
   "language": "python",
   "name": "python3"
  },
  "language_info": {
   "codemirror_mode": {
    "name": "ipython",
    "version": 3
   },
   "file_extension": ".py",
   "mimetype": "text/x-python",
   "name": "python",
   "nbconvert_exporter": "python",
   "pygments_lexer": "ipython3",
   "version": "3.9.12"
  },
  "orig_nbformat": 4
 },
 "nbformat": 4,
 "nbformat_minor": 2
}
