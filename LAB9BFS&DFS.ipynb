{
 "cells": [
  {
   "cell_type": "markdown",
   "id": "93b4b13e",
   "metadata": {},
   "source": [
    "Breadth First Search and possible paths between a start and goal vortex."
   ]
  },
  {
   "cell_type": "code",
   "execution_count": 2,
   "id": "2ba6ae71",
   "metadata": {},
   "outputs": [],
   "source": [
    "graph = {'A': set(['B', 'C']),\n",
    "         'B': set(['A', 'D', 'E']),\n",
    "         'C': set(['A', 'F']),\n",
    "         'D': set(['B']),\n",
    "         'E': set(['B', 'F']),\n",
    "         'F': set(['C', 'E'])}"
   ]
  },
  {
   "cell_type": "code",
   "execution_count": 3,
   "id": "817d162e",
   "metadata": {},
   "outputs": [
    {
     "data": {
      "text/plain": [
       "{'A', 'B', 'C', 'D', 'E', 'F'}"
      ]
     },
     "execution_count": 3,
     "metadata": {},
     "output_type": "execute_result"
    }
   ],
   "source": [
    "def bfs(graph, start):\n",
    "    visited, queue = set(), [start]\n",
    "    while queue:\n",
    "        vertex = queue.pop(0)\n",
    "        if vertex not in visited:\n",
    "            visited.add(vertex)\n",
    "            queue.extend(graph[vertex] - visited)\n",
    "    return visited\n",
    "\n",
    "bfs(graph, 'A') "
   ]
  },
  {
   "cell_type": "code",
   "execution_count": 9,
   "id": "689a4875",
   "metadata": {},
   "outputs": [
    {
     "data": {
      "text/plain": [
       "[['A', 'C', 'F'], ['A', 'B', 'E', 'F']]"
      ]
     },
     "execution_count": 9,
     "metadata": {},
     "output_type": "execute_result"
    }
   ],
   "source": [
    "#Path\n",
    "def bfs_paths(graph, start, goal):\n",
    "    queue = [(start, [start])]\n",
    "    while queue:\n",
    "        (vertex, path) = queue.pop(0)\n",
    "        for next in graph[vertex] - set(path):\n",
    "            if next == goal:\n",
    "                yield path + [next]\n",
    "            else:\n",
    "                queue.append((next, path + [next]))\n",
    "\n",
    "list(bfs_paths(graph, 'A', 'F')) "
   ]
  },
  {
   "cell_type": "code",
   "execution_count": 11,
   "id": "df167432",
   "metadata": {},
   "outputs": [],
   "source": [
    "#Shortest path."
   ]
  },
  {
   "cell_type": "code",
   "execution_count": 12,
   "id": "00eb1871",
   "metadata": {},
   "outputs": [
    {
     "data": {
      "text/plain": [
       "['A', 'C', 'F']"
      ]
     },
     "execution_count": 12,
     "metadata": {},
     "output_type": "execute_result"
    }
   ],
   "source": [
    "def shortest_path(graph, start, goal):\n",
    "    try:\n",
    "        return next(bfs_paths(graph, start, goal))\n",
    "    except StopIteration:\n",
    "        return None\n",
    "\n",
    "shortest_path(graph, 'A', 'F')"
   ]
  },
  {
   "cell_type": "markdown",
   "id": "88af4a4d",
   "metadata": {},
   "source": [
    "Depth First Search and path from goal to vortex."
   ]
  },
  {
   "cell_type": "code",
   "execution_count": 7,
   "id": "012841c1",
   "metadata": {},
   "outputs": [
    {
     "name": "stdout",
     "output_type": "stream",
     "text": [
      "['A', 'C', 'F', 'E', 'B', 'D']\n"
     ]
    }
   ],
   "source": [
    "graph = {'A': set(['B', 'C']),\n",
    "         'B': set(['A', 'D', 'E']),\n",
    "         'C': set(['A', 'F']),\n",
    "         'D': set(['B']),\n",
    "         'E': set(['B', 'F']),\n",
    "         'F': set(['C', 'E'])}\n",
    " \n",
    "def dfs(graph, node, visited):\n",
    "    if node not in visited:\n",
    "        visited.append(node)\n",
    "        for k in graph[node]:\n",
    "            dfs(graph,k, visited)\n",
    "    return visited\n",
    " \n",
    "visited = dfs(graph,'A', [])\n",
    "print(visited)"
   ]
  },
  {
   "cell_type": "code",
   "execution_count": 8,
   "id": "3d531a96",
   "metadata": {},
   "outputs": [
    {
     "data": {
      "text/plain": [
       "[['A', 'B', 'E', 'F'], ['A', 'C', 'F']]"
      ]
     },
     "execution_count": 8,
     "metadata": {},
     "output_type": "execute_result"
    }
   ],
   "source": [
    "#Path\n",
    "def dfs_paths(graph, start, goal):\n",
    "    stack = [(start, [start])]\n",
    "    while stack:\n",
    "        (vertex, path) = stack.pop()\n",
    "        for next in graph[vertex] - set(path):\n",
    "            if next == goal:\n",
    "                yield path + [next]\n",
    "            else:\n",
    "                stack.append((next, path + [next]))\n",
    "\n",
    "list(dfs_paths(graph, 'A', 'F')) "
   ]
  },
  {
   "cell_type": "code",
   "execution_count": null,
   "id": "05240307",
   "metadata": {},
   "outputs": [],
   "source": []
  }
 ],
 "metadata": {
  "kernelspec": {
   "display_name": "Python 3 (ipykernel)",
   "language": "python",
   "name": "python3"
  },
  "language_info": {
   "codemirror_mode": {
    "name": "ipython",
    "version": 3
   },
   "file_extension": ".py",
   "mimetype": "text/x-python",
   "name": "python",
   "nbconvert_exporter": "python",
   "pygments_lexer": "ipython3",
   "version": "3.8.8"
  }
 },
 "nbformat": 4,
 "nbformat_minor": 5
}
